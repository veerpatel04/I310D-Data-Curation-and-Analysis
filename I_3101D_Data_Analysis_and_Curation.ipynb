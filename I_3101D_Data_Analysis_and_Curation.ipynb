{
  "nbformat": 4,
  "nbformat_minor": 0,
  "metadata": {
    "colab": {
      "provenance": []
    },
    "kernelspec": {
      "name": "python3",
      "display_name": "Python 3"
    },
    "language_info": {
      "name": "python"
    }
  },
  "cells": [
    {
      "cell_type": "markdown",
      "source": [
        "We will be scraping a wikipedia page to create a dataframe and visualizing it. This wikipedia page is the list of top soccer international men's goalscorers."
      ],
      "metadata": {
        "id": "b2CJv5cGfwK8"
      }
    },
    {
      "cell_type": "code",
      "source": [
        "import pandas as pd\n",
        "import requests\n",
        "from bs4 import BeautifulSoup"
      ],
      "metadata": {
        "id": "TIuB7WhbZBv7"
      },
      "execution_count": 102,
      "outputs": []
    },
    {
      "cell_type": "markdown",
      "source": [
        "Imported different libraries for data analysis, to handle requests and to parse HTML documents."
      ],
      "metadata": {
        "id": "9sx9IaF3aARO"
      }
    },
    {
      "cell_type": "code",
      "source": [
        "wikiurl=\"https://en.wikipedia.org/wiki/List_of_top_international_men%27s_football_goal_scorers_by_country\"\n",
        "table_class=\"wikitable sortable jquery-tablesorter\"\n",
        "response=requests.get(wikiurl)"
      ],
      "metadata": {
        "id": "2f254P4XZDPQ"
      },
      "execution_count": 103,
      "outputs": []
    },
    {
      "cell_type": "markdown",
      "source": [
        "This gets the response in the form of HTML."
      ],
      "metadata": {
        "id": "zxQl7x-8aA_7"
      }
    },
    {
      "cell_type": "code",
      "source": [
        "soup = BeautifulSoup(response.text, 'html.parser')\n",
        "indiatable=soup.find('table',{'class':\"wikitable\"})"
      ],
      "metadata": {
        "id": "Z2uLvD3MZS5q"
      },
      "execution_count": 104,
      "outputs": []
    },
    {
      "cell_type": "markdown",
      "source": [
        "This parses data into a beautifulsoup object"
      ],
      "metadata": {
        "id": "k-wlyc3BaBvy"
      }
    },
    {
      "cell_type": "code",
      "source": [
        "df=pd.read_html(str(indiatable))\n",
        "# convert list to dataframe\n",
        "df=pd.DataFrame(df[0])\n",
        "print(df.head())"
      ],
      "metadata": {
        "colab": {
          "base_uri": "https://localhost:8080/"
        },
        "id": "tUBnL0aTZcT1",
        "outputId": "70479b78-935f-4801-bd62-e71ba8df11b1"
      },
      "execution_count": 105,
      "outputs": [
        {
          "output_type": "stream",
          "name": "stdout",
          "text": [
            "   Rank             Player    Country  Goals  Caps  Ratio       First cap  \\\n",
            "0     1  Cristiano Ronaldo   Portugal    123   201   0.62  20 August 2003   \n",
            "1     2       Ali Daei [a]       Iran    108   148   0.73     6 June 1993   \n",
            "2     3       Lionel Messi  Argentina    104   176   0.59  17 August 2005   \n",
            "3     4      Sunil Chhetri      India     92   142   0.65    12 June 2005   \n",
            "4     5     Mokhtar Dahari   Malaysia     89   142   0.63     5 June 1972   \n",
            "\n",
            "           Last cap Ref.  \n",
            "0  8 September 2023  [1]  \n",
            "1      21 June 2006  [2]  \n",
            "2  7 September 2023  [3]  \n",
            "3       4 July 2023  [4]  \n",
            "4       19 May 1985  [5]  \n"
          ]
        }
      ]
    },
    {
      "cell_type": "markdown",
      "source": [
        "This converts list to dataframe and print the head of that dataframe."
      ],
      "metadata": {
        "id": "6B7y0fD4aCi9"
      }
    },
    {
      "cell_type": "code",
      "source": [
        "df.to_json(\"International_Men_Soccer_Goalscorers_Raw_Data.json\")"
      ],
      "metadata": {
        "id": "GIRM7R4eAm1j"
      },
      "execution_count": 106,
      "outputs": []
    },
    {
      "cell_type": "markdown",
      "source": [
        "Save the raw data into a JSON file."
      ],
      "metadata": {
        "id": "BhZtHXgyA2vO"
      }
    },
    {
      "cell_type": "code",
      "source": [
        "data = df.drop([\"Last cap\", \"First cap\", \"Ref.\"], axis=1)\n",
        "print(data.head())"
      ],
      "metadata": {
        "colab": {
          "base_uri": "https://localhost:8080/"
        },
        "id": "QcXu0cD2a-0q",
        "outputId": "3dbfd14b-1a4e-435f-d9c3-1fd9c5625aab"
      },
      "execution_count": 107,
      "outputs": [
        {
          "output_type": "stream",
          "name": "stdout",
          "text": [
            "   Rank             Player    Country  Goals  Caps  Ratio\n",
            "0     1  Cristiano Ronaldo   Portugal    123   201   0.62\n",
            "1     2       Ali Daei [a]       Iran    108   148   0.73\n",
            "2     3       Lionel Messi  Argentina    104   176   0.59\n",
            "3     4      Sunil Chhetri      India     92   142   0.65\n",
            "4     5     Mokhtar Dahari   Malaysia     89   142   0.63\n"
          ]
        }
      ]
    },
    {
      "cell_type": "markdown",
      "source": [
        "Removed unwanted columns from the dataframe."
      ],
      "metadata": {
        "id": "dUwm1KoBbbVA"
      }
    },
    {
      "cell_type": "code",
      "source": [
        "number_of_duplicates = data.duplicated().sum()\n",
        "print (f\" Number of duplicates before : {number_of_duplicates}\")\n",
        "\n",
        "data = data.drop_duplicates()\n",
        "\n",
        "number_of_duplicates = data.duplicated().sum()\n",
        "print (f\" Number of duplicates after removing : {number_of_duplicates}\")"
      ],
      "metadata": {
        "colab": {
          "base_uri": "https://localhost:8080/"
        },
        "id": "OeQWoK7IbYD7",
        "outputId": "d0be459f-821c-4e5f-d7f9-14477d2e3f2a"
      },
      "execution_count": 108,
      "outputs": [
        {
          "output_type": "stream",
          "name": "stdout",
          "text": [
            " Number of duplicates before : 0\n",
            " Number of duplicates after removing : 0\n"
          ]
        }
      ]
    },
    {
      "cell_type": "markdown",
      "source": [
        "Duplication checks and cleaning of duplicates."
      ],
      "metadata": {
        "id": "iJzWMsaEcYFz"
      }
    },
    {
      "cell_type": "code",
      "source": [
        "data.info()"
      ],
      "metadata": {
        "colab": {
          "base_uri": "https://localhost:8080/"
        },
        "id": "zFKov61ecXvg",
        "outputId": "e33f8155-bf38-4c5f-8851-0aa1d17357cf"
      },
      "execution_count": 109,
      "outputs": [
        {
          "output_type": "stream",
          "name": "stdout",
          "text": [
            "<class 'pandas.core.frame.DataFrame'>\n",
            "Int64Index: 233 entries, 0 to 232\n",
            "Data columns (total 6 columns):\n",
            " #   Column   Non-Null Count  Dtype  \n",
            "---  ------   --------------  -----  \n",
            " 0   Rank     233 non-null    int64  \n",
            " 1   Player   233 non-null    object \n",
            " 2   Country  233 non-null    object \n",
            " 3   Goals    233 non-null    int64  \n",
            " 4   Caps     233 non-null    int64  \n",
            " 5   Ratio    233 non-null    float64\n",
            "dtypes: float64(1), int64(3), object(2)\n",
            "memory usage: 12.7+ KB\n"
          ]
        }
      ]
    },
    {
      "cell_type": "markdown",
      "source": [
        "Inspecting data and checking noisy entries"
      ],
      "metadata": {
        "id": "2XBw6KOXcvPD"
      }
    },
    {
      "cell_type": "code",
      "source": [
        "data = data.dropna()\n",
        "data"
      ],
      "metadata": {
        "colab": {
          "base_uri": "https://localhost:8080/",
          "height": 423
        },
        "id": "1RQMc_6Vc5_0",
        "outputId": "323a7680-c4cd-4a9b-db91-e8e89e62230a"
      },
      "execution_count": 110,
      "outputs": [
        {
          "output_type": "execute_result",
          "data": {
            "text/plain": [
              "     Rank                    Player              Country  Goals  Caps  Ratio\n",
              "0       1         Cristiano Ronaldo             Portugal    123   201   0.62\n",
              "1       2              Ali Daei [a]                 Iran    108   148   0.73\n",
              "2       3              Lionel Messi            Argentina    104   176   0.59\n",
              "3       4             Sunil Chhetri                India     92   142   0.65\n",
              "4       5            Mokhtar Dahari             Malaysia     89   142   0.63\n",
              "..    ...                       ...                  ...    ...   ...    ...\n",
              "228   205           Liam Walker [i]            Gibraltar      5    72   0.07\n",
              "229   209  Abdullahi Sheikh Mohamed              Somalia      3     6   0.50\n",
              "230   209              Jamie Browne  U.S. Virgin Islands      3    11   0.27\n",
              "231   209                J. C. Mack  U.S. Virgin Islands      3    15   0.20\n",
              "232   209                 Ramin Ott       American Samoa      3    15   0.20\n",
              "\n",
              "[233 rows x 6 columns]"
            ],
            "text/html": [
              "\n",
              "  <div id=\"df-ce6314f3-8449-4000-aff8-54fa89bbd7b8\" class=\"colab-df-container\">\n",
              "    <div>\n",
              "<style scoped>\n",
              "    .dataframe tbody tr th:only-of-type {\n",
              "        vertical-align: middle;\n",
              "    }\n",
              "\n",
              "    .dataframe tbody tr th {\n",
              "        vertical-align: top;\n",
              "    }\n",
              "\n",
              "    .dataframe thead th {\n",
              "        text-align: right;\n",
              "    }\n",
              "</style>\n",
              "<table border=\"1\" class=\"dataframe\">\n",
              "  <thead>\n",
              "    <tr style=\"text-align: right;\">\n",
              "      <th></th>\n",
              "      <th>Rank</th>\n",
              "      <th>Player</th>\n",
              "      <th>Country</th>\n",
              "      <th>Goals</th>\n",
              "      <th>Caps</th>\n",
              "      <th>Ratio</th>\n",
              "    </tr>\n",
              "  </thead>\n",
              "  <tbody>\n",
              "    <tr>\n",
              "      <th>0</th>\n",
              "      <td>1</td>\n",
              "      <td>Cristiano Ronaldo</td>\n",
              "      <td>Portugal</td>\n",
              "      <td>123</td>\n",
              "      <td>201</td>\n",
              "      <td>0.62</td>\n",
              "    </tr>\n",
              "    <tr>\n",
              "      <th>1</th>\n",
              "      <td>2</td>\n",
              "      <td>Ali Daei [a]</td>\n",
              "      <td>Iran</td>\n",
              "      <td>108</td>\n",
              "      <td>148</td>\n",
              "      <td>0.73</td>\n",
              "    </tr>\n",
              "    <tr>\n",
              "      <th>2</th>\n",
              "      <td>3</td>\n",
              "      <td>Lionel Messi</td>\n",
              "      <td>Argentina</td>\n",
              "      <td>104</td>\n",
              "      <td>176</td>\n",
              "      <td>0.59</td>\n",
              "    </tr>\n",
              "    <tr>\n",
              "      <th>3</th>\n",
              "      <td>4</td>\n",
              "      <td>Sunil Chhetri</td>\n",
              "      <td>India</td>\n",
              "      <td>92</td>\n",
              "      <td>142</td>\n",
              "      <td>0.65</td>\n",
              "    </tr>\n",
              "    <tr>\n",
              "      <th>4</th>\n",
              "      <td>5</td>\n",
              "      <td>Mokhtar Dahari</td>\n",
              "      <td>Malaysia</td>\n",
              "      <td>89</td>\n",
              "      <td>142</td>\n",
              "      <td>0.63</td>\n",
              "    </tr>\n",
              "    <tr>\n",
              "      <th>...</th>\n",
              "      <td>...</td>\n",
              "      <td>...</td>\n",
              "      <td>...</td>\n",
              "      <td>...</td>\n",
              "      <td>...</td>\n",
              "      <td>...</td>\n",
              "    </tr>\n",
              "    <tr>\n",
              "      <th>228</th>\n",
              "      <td>205</td>\n",
              "      <td>Liam Walker [i]</td>\n",
              "      <td>Gibraltar</td>\n",
              "      <td>5</td>\n",
              "      <td>72</td>\n",
              "      <td>0.07</td>\n",
              "    </tr>\n",
              "    <tr>\n",
              "      <th>229</th>\n",
              "      <td>209</td>\n",
              "      <td>Abdullahi Sheikh Mohamed</td>\n",
              "      <td>Somalia</td>\n",
              "      <td>3</td>\n",
              "      <td>6</td>\n",
              "      <td>0.50</td>\n",
              "    </tr>\n",
              "    <tr>\n",
              "      <th>230</th>\n",
              "      <td>209</td>\n",
              "      <td>Jamie Browne</td>\n",
              "      <td>U.S. Virgin Islands</td>\n",
              "      <td>3</td>\n",
              "      <td>11</td>\n",
              "      <td>0.27</td>\n",
              "    </tr>\n",
              "    <tr>\n",
              "      <th>231</th>\n",
              "      <td>209</td>\n",
              "      <td>J. C. Mack</td>\n",
              "      <td>U.S. Virgin Islands</td>\n",
              "      <td>3</td>\n",
              "      <td>15</td>\n",
              "      <td>0.20</td>\n",
              "    </tr>\n",
              "    <tr>\n",
              "      <th>232</th>\n",
              "      <td>209</td>\n",
              "      <td>Ramin Ott</td>\n",
              "      <td>American Samoa</td>\n",
              "      <td>3</td>\n",
              "      <td>15</td>\n",
              "      <td>0.20</td>\n",
              "    </tr>\n",
              "  </tbody>\n",
              "</table>\n",
              "<p>233 rows × 6 columns</p>\n",
              "</div>\n",
              "    <div class=\"colab-df-buttons\">\n",
              "\n",
              "  <div class=\"colab-df-container\">\n",
              "    <button class=\"colab-df-convert\" onclick=\"convertToInteractive('df-ce6314f3-8449-4000-aff8-54fa89bbd7b8')\"\n",
              "            title=\"Convert this dataframe to an interactive table.\"\n",
              "            style=\"display:none;\">\n",
              "\n",
              "  <svg xmlns=\"http://www.w3.org/2000/svg\" height=\"24px\" viewBox=\"0 -960 960 960\">\n",
              "    <path d=\"M120-120v-720h720v720H120Zm60-500h600v-160H180v160Zm220 220h160v-160H400v160Zm0 220h160v-160H400v160ZM180-400h160v-160H180v160Zm440 0h160v-160H620v160ZM180-180h160v-160H180v160Zm440 0h160v-160H620v160Z\"/>\n",
              "  </svg>\n",
              "    </button>\n",
              "\n",
              "  <style>\n",
              "    .colab-df-container {\n",
              "      display:flex;\n",
              "      gap: 12px;\n",
              "    }\n",
              "\n",
              "    .colab-df-convert {\n",
              "      background-color: #E8F0FE;\n",
              "      border: none;\n",
              "      border-radius: 50%;\n",
              "      cursor: pointer;\n",
              "      display: none;\n",
              "      fill: #1967D2;\n",
              "      height: 32px;\n",
              "      padding: 0 0 0 0;\n",
              "      width: 32px;\n",
              "    }\n",
              "\n",
              "    .colab-df-convert:hover {\n",
              "      background-color: #E2EBFA;\n",
              "      box-shadow: 0px 1px 2px rgba(60, 64, 67, 0.3), 0px 1px 3px 1px rgba(60, 64, 67, 0.15);\n",
              "      fill: #174EA6;\n",
              "    }\n",
              "\n",
              "    .colab-df-buttons div {\n",
              "      margin-bottom: 4px;\n",
              "    }\n",
              "\n",
              "    [theme=dark] .colab-df-convert {\n",
              "      background-color: #3B4455;\n",
              "      fill: #D2E3FC;\n",
              "    }\n",
              "\n",
              "    [theme=dark] .colab-df-convert:hover {\n",
              "      background-color: #434B5C;\n",
              "      box-shadow: 0px 1px 3px 1px rgba(0, 0, 0, 0.15);\n",
              "      filter: drop-shadow(0px 1px 2px rgba(0, 0, 0, 0.3));\n",
              "      fill: #FFFFFF;\n",
              "    }\n",
              "  </style>\n",
              "\n",
              "    <script>\n",
              "      const buttonEl =\n",
              "        document.querySelector('#df-ce6314f3-8449-4000-aff8-54fa89bbd7b8 button.colab-df-convert');\n",
              "      buttonEl.style.display =\n",
              "        google.colab.kernel.accessAllowed ? 'block' : 'none';\n",
              "\n",
              "      async function convertToInteractive(key) {\n",
              "        const element = document.querySelector('#df-ce6314f3-8449-4000-aff8-54fa89bbd7b8');\n",
              "        const dataTable =\n",
              "          await google.colab.kernel.invokeFunction('convertToInteractive',\n",
              "                                                    [key], {});\n",
              "        if (!dataTable) return;\n",
              "\n",
              "        const docLinkHtml = 'Like what you see? Visit the ' +\n",
              "          '<a target=\"_blank\" href=https://colab.research.google.com/notebooks/data_table.ipynb>data table notebook</a>'\n",
              "          + ' to learn more about interactive tables.';\n",
              "        element.innerHTML = '';\n",
              "        dataTable['output_type'] = 'display_data';\n",
              "        await google.colab.output.renderOutput(dataTable, element);\n",
              "        const docLink = document.createElement('div');\n",
              "        docLink.innerHTML = docLinkHtml;\n",
              "        element.appendChild(docLink);\n",
              "      }\n",
              "    </script>\n",
              "  </div>\n",
              "\n",
              "\n",
              "<div id=\"df-8bdb4fda-f1dc-443c-b273-ae6c0249413b\">\n",
              "  <button class=\"colab-df-quickchart\" onclick=\"quickchart('df-8bdb4fda-f1dc-443c-b273-ae6c0249413b')\"\n",
              "            title=\"Suggest charts.\"\n",
              "            style=\"display:none;\">\n",
              "\n",
              "<svg xmlns=\"http://www.w3.org/2000/svg\" height=\"24px\"viewBox=\"0 0 24 24\"\n",
              "     width=\"24px\">\n",
              "    <g>\n",
              "        <path d=\"M19 3H5c-1.1 0-2 .9-2 2v14c0 1.1.9 2 2 2h14c1.1 0 2-.9 2-2V5c0-1.1-.9-2-2-2zM9 17H7v-7h2v7zm4 0h-2V7h2v10zm4 0h-2v-4h2v4z\"/>\n",
              "    </g>\n",
              "</svg>\n",
              "  </button>\n",
              "\n",
              "<style>\n",
              "  .colab-df-quickchart {\n",
              "      --bg-color: #E8F0FE;\n",
              "      --fill-color: #1967D2;\n",
              "      --hover-bg-color: #E2EBFA;\n",
              "      --hover-fill-color: #174EA6;\n",
              "      --disabled-fill-color: #AAA;\n",
              "      --disabled-bg-color: #DDD;\n",
              "  }\n",
              "\n",
              "  [theme=dark] .colab-df-quickchart {\n",
              "      --bg-color: #3B4455;\n",
              "      --fill-color: #D2E3FC;\n",
              "      --hover-bg-color: #434B5C;\n",
              "      --hover-fill-color: #FFFFFF;\n",
              "      --disabled-bg-color: #3B4455;\n",
              "      --disabled-fill-color: #666;\n",
              "  }\n",
              "\n",
              "  .colab-df-quickchart {\n",
              "    background-color: var(--bg-color);\n",
              "    border: none;\n",
              "    border-radius: 50%;\n",
              "    cursor: pointer;\n",
              "    display: none;\n",
              "    fill: var(--fill-color);\n",
              "    height: 32px;\n",
              "    padding: 0;\n",
              "    width: 32px;\n",
              "  }\n",
              "\n",
              "  .colab-df-quickchart:hover {\n",
              "    background-color: var(--hover-bg-color);\n",
              "    box-shadow: 0 1px 2px rgba(60, 64, 67, 0.3), 0 1px 3px 1px rgba(60, 64, 67, 0.15);\n",
              "    fill: var(--button-hover-fill-color);\n",
              "  }\n",
              "\n",
              "  .colab-df-quickchart-complete:disabled,\n",
              "  .colab-df-quickchart-complete:disabled:hover {\n",
              "    background-color: var(--disabled-bg-color);\n",
              "    fill: var(--disabled-fill-color);\n",
              "    box-shadow: none;\n",
              "  }\n",
              "\n",
              "  .colab-df-spinner {\n",
              "    border: 2px solid var(--fill-color);\n",
              "    border-color: transparent;\n",
              "    border-bottom-color: var(--fill-color);\n",
              "    animation:\n",
              "      spin 1s steps(1) infinite;\n",
              "  }\n",
              "\n",
              "  @keyframes spin {\n",
              "    0% {\n",
              "      border-color: transparent;\n",
              "      border-bottom-color: var(--fill-color);\n",
              "      border-left-color: var(--fill-color);\n",
              "    }\n",
              "    20% {\n",
              "      border-color: transparent;\n",
              "      border-left-color: var(--fill-color);\n",
              "      border-top-color: var(--fill-color);\n",
              "    }\n",
              "    30% {\n",
              "      border-color: transparent;\n",
              "      border-left-color: var(--fill-color);\n",
              "      border-top-color: var(--fill-color);\n",
              "      border-right-color: var(--fill-color);\n",
              "    }\n",
              "    40% {\n",
              "      border-color: transparent;\n",
              "      border-right-color: var(--fill-color);\n",
              "      border-top-color: var(--fill-color);\n",
              "    }\n",
              "    60% {\n",
              "      border-color: transparent;\n",
              "      border-right-color: var(--fill-color);\n",
              "    }\n",
              "    80% {\n",
              "      border-color: transparent;\n",
              "      border-right-color: var(--fill-color);\n",
              "      border-bottom-color: var(--fill-color);\n",
              "    }\n",
              "    90% {\n",
              "      border-color: transparent;\n",
              "      border-bottom-color: var(--fill-color);\n",
              "    }\n",
              "  }\n",
              "</style>\n",
              "\n",
              "  <script>\n",
              "    async function quickchart(key) {\n",
              "      const quickchartButtonEl =\n",
              "        document.querySelector('#' + key + ' button');\n",
              "      quickchartButtonEl.disabled = true;  // To prevent multiple clicks.\n",
              "      quickchartButtonEl.classList.add('colab-df-spinner');\n",
              "      try {\n",
              "        const charts = await google.colab.kernel.invokeFunction(\n",
              "            'suggestCharts', [key], {});\n",
              "      } catch (error) {\n",
              "        console.error('Error during call to suggestCharts:', error);\n",
              "      }\n",
              "      quickchartButtonEl.classList.remove('colab-df-spinner');\n",
              "      quickchartButtonEl.classList.add('colab-df-quickchart-complete');\n",
              "    }\n",
              "    (() => {\n",
              "      let quickchartButtonEl =\n",
              "        document.querySelector('#df-8bdb4fda-f1dc-443c-b273-ae6c0249413b button');\n",
              "      quickchartButtonEl.style.display =\n",
              "        google.colab.kernel.accessAllowed ? 'block' : 'none';\n",
              "    })();\n",
              "  </script>\n",
              "</div>\n",
              "    </div>\n",
              "  </div>\n"
            ]
          },
          "metadata": {},
          "execution_count": 110
        }
      ]
    },
    {
      "cell_type": "markdown",
      "source": [
        "Dropping rows will null entries."
      ],
      "metadata": {
        "id": "D6cB9PvadP9N"
      }
    },
    {
      "cell_type": "code",
      "source": [
        "data.to_csv(\"International_Men_Soccer_Goalscorers.csv\")"
      ],
      "metadata": {
        "id": "QhbykUxsemkA"
      },
      "execution_count": 111,
      "outputs": []
    },
    {
      "cell_type": "markdown",
      "source": [
        "Loading the dataframe into a CSV file."
      ],
      "metadata": {
        "id": "v-fcpaP2e3n3"
      }
    },
    {
      "cell_type": "code",
      "source": [
        "import pandas as pd\n",
        "import numpy as np\n",
        "import scipy\n",
        "from matplotlib import pyplot as plt\n",
        "print (\"Imported all libraries successfully...\")"
      ],
      "metadata": {
        "colab": {
          "base_uri": "https://localhost:8080/"
        },
        "id": "XfRLi9HSe3M7",
        "outputId": "3a323262-e490-4a5b-ba75-b1755b977b71"
      },
      "execution_count": 112,
      "outputs": [
        {
          "output_type": "stream",
          "name": "stdout",
          "text": [
            "Imported all libraries successfully...\n"
          ]
        }
      ]
    },
    {
      "cell_type": "markdown",
      "source": [
        "Importing all libraries needed for visualization"
      ],
      "metadata": {
        "id": "LNPCW-7tfNno"
      }
    },
    {
      "cell_type": "code",
      "source": [
        "data[\"Ratio\"].describe()"
      ],
      "metadata": {
        "colab": {
          "base_uri": "https://localhost:8080/"
        },
        "id": "ZFlo7i8_dVF1",
        "outputId": "be77e1c5-abd3-477c-bf79-e853e9db53b4"
      },
      "execution_count": 113,
      "outputs": [
        {
          "output_type": "execute_result",
          "data": {
            "text/plain": [
              "count    233.000000\n",
              "mean       0.451803\n",
              "std        0.194666\n",
              "min        0.070000\n",
              "25%        0.320000\n",
              "50%        0.430000\n",
              "75%        0.550000\n",
              "max        1.500000\n",
              "Name: Ratio, dtype: float64"
            ]
          },
          "metadata": {},
          "execution_count": 113
        }
      ]
    },
    {
      "cell_type": "markdown",
      "source": [
        "This describes the code of the ratio column and give various mathematical averages. In this summary, we can see that the datatype of the column being float. Out of the 233 rows, the mean of the ratio of goals scored to matches played is 0.45, while the median is 0.43, which means that there are not many outliers that affect the accuracy of the data. The minimum is 0.07 goals per game while the maximum is 1.5 goals per game which means that although there are not many outliers which affect the mean, the dataframe is still not void of them."
      ],
      "metadata": {
        "id": "Qcn5qJwBeNv-"
      }
    },
    {
      "cell_type": "code",
      "source": [
        "goals = data[\"Goals\"]\n",
        "caps = data[\"Caps\"]\n",
        "\n",
        "plt.plot(goals, caps, marker='o')\n",
        "\n",
        "plt.ylabel(\"Appearances\")\n",
        "plt.xlabel(\"Goals\")\n",
        "\n",
        "plt.title(\"Goals by Appearance\")"
      ],
      "metadata": {
        "colab": {
          "base_uri": "https://localhost:8080/",
          "height": 489
        },
        "id": "5yes6taw4KE2",
        "outputId": "fe5b159d-9a2b-4297-99fb-35cf07d8d540"
      },
      "execution_count": 114,
      "outputs": [
        {
          "output_type": "execute_result",
          "data": {
            "text/plain": [
              "Text(0.5, 1.0, 'Goals by Appearance')"
            ]
          },
          "metadata": {},
          "execution_count": 114
        },
        {
          "output_type": "display_data",
          "data": {
            "text/plain": [
              "<Figure size 640x480 with 1 Axes>"
            ],
            "image/png": "[encoded data removed]"
          },
          "metadata": {}
        }
      ]
    },
    {
      "cell_type": "markdown",
      "source": [
        "The informative graph above plots the total goals scored by the player against the appearances made by a player. In this case, we can see that there is a positive correlation between the two variables as we can see that the general trend of the graph is that the more appearances a player makes, the more goals he scores. There are number of outliers, and not all players follow this rule but the general conclusion is that as appearances increase, the number of goals scored increases."
      ],
      "metadata": {
        "id": "T-xhC5CH7G-9"
      }
    }
  ]
}